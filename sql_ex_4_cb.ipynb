{
 "cells": [
  {
   "cell_type": "code",
   "execution_count": 15,
   "metadata": {},
   "outputs": [],
   "source": [
    "from datetime import datetime\n",
    "\n",
    "from sqlalchemy import (MetaData, Table, Column, Integer, Numeric, String,\n",
    "                       DateTime, ForeignKey, Boolean, create_engine, CheckConstraint)\n",
    "\n",
    "metadata=MetaData()\n",
    "\n",
    "cookies=Table('cookies',metadata,\n",
    "             Column('cookie_id',Integer(),primary_key=True),\n",
    "             Column('cookie_name',String(50),index=True),\n",
    "             Column('cookie_recipe_url',String(255)),\n",
    "             Column('cookie_sku',String(55)),\n",
    "             Column('quantity',Integer()),\n",
    "             Column('unit_cost',Numeric(12,2)),\n",
    "             CheckConstraint('quantity > 0',name='quantity_positive') \n",
    "             )\n",
    "\n",
    "users=Table('users',metadata,\n",
    "             Column('user_id',Integer(),primary_key=True),\n",
    "             Column('username',String(15),nullable=False,unique=True),\n",
    "             Column('email_address',String(255),nullable=False),\n",
    "             Column('phone',String(20),nullable=False),\n",
    "             Column('password',String(25),nullable=False),\n",
    "             Column('created_on',DateTime(),default=datetime.now),\n",
    "             Column('updated_on',DateTime(),default=datetime.now,onupdate=datetime.now)\n",
    "             )\n",
    "\n",
    "orders=Table('orders',metadata,\n",
    "            Column('order_id',Integer()),\n",
    "            Column('user_id',ForeignKey('users.user_id')),\n",
    "            Column('shipped',Boolean(),default=False)\n",
    "            )\n",
    "\n",
    "\n",
    "line_items=Table('line_items',metadata,\n",
    "             Column('line_items_id',Integer(),primary_key=True),\n",
    "             Column('order_id',ForeignKey('orders.order_id')),\n",
    "             Column('cookie_id',ForeignKey('cookies.cookie_id')),\n",
    "             Column('quantity',Integer()),\n",
    "             Column('extended_cost',Numeric(12,2))             \n",
    "             )\n",
    "\n",
    "engine=create_engine('sqlite:///:memory:')\n",
    "metadata.create_all(engine)\n",
    "connection=engine.connect()"
   ]
  },
  {
   "cell_type": "code",
   "execution_count": 32,
   "metadata": {},
   "outputs": [
    {
     "name": "stdout",
     "output_type": "stream",
     "text": [
      "(sqlite3.IntegrityError) UNIQUE constraint failed: users.username [SQL: 'INSERT INTO users (username, email_address, phone, password, created_on, updated_on) VALUES (?, ?, ?, ?, ?, ?)'] [parameters: ('cookiemon', 'mon@cookie.com', '111-111-1111', 'password', '2019-10-22 20:10:52.183987', '2019-10-22 20:10:52.183987')] (Background on this error at: http://sqlalche.me/e/gkpj)\n"
     ]
    }
   ],
   "source": [
    "from sqlalchemy import select, insert, exc\n",
    "ins=insert(users).values(\n",
    "    username=\"cookiemon\",\n",
    "    email_address=\"mon@cookie.com\",\n",
    "    phone=\"111-111-1111\",\n",
    "    password=\"password\"\n",
    ")\n",
    "try:\n",
    "    result=connection.execute(ins)\n",
    "except exc.IntegrityError as error:\n",
    "    print(error)"
   ]
  },
  {
   "cell_type": "code",
   "execution_count": 33,
   "metadata": {},
   "outputs": [
    {
     "name": "stdout",
     "output_type": "stream",
     "text": [
      "cookiemon\n",
      "password\n"
     ]
    }
   ],
   "source": [
    "s = select([users.c.username,users.c.password])\n",
    "results=connection.execute(s)\n",
    "for result in results:\n",
    "    print(result.username)\n",
    "    print(result.password)"
   ]
  },
  {
   "cell_type": "code",
   "execution_count": 36,
   "metadata": {},
   "outputs": [],
   "source": [
    "ins=cookies.insert()\n",
    "\n",
    "inventory_list=[\n",
    "    {\n",
    "        'cookie_name':'chocolate chip',\n",
    "        'cookie_recipe_url':'http://some.aweso.me/cookie/recipe.html',\n",
    "        'cookie_sku':'CC1',\n",
    "        'quantity':'12',\n",
    "        'unit_cost':'0.50'\n",
    "    },\n",
    "     {\n",
    "        'cookie_name':'dark chocolate chip',\n",
    "        'cookie_recipe_url':'http://some.aweso.me/cookie/recipe_dark.html',\n",
    "        'cookie_sku':'CC02',\n",
    "        'quantity':'1',\n",
    "        'unit_cost':'0.75'\n",
    "    },\n",
    "    {\n",
    "        'cookie_name':'peanut butter',\n",
    "        'cookie_recipe_url':'http://some.aweso.me/cookie/peanut.html',\n",
    "        'cookie_sku':'PB01',\n",
    "        'quantity':'24',\n",
    "        'unit_cost':'0.25'\n",
    "    },\n",
    "    {\n",
    "        'cookie_name':'oatmeal raisin',\n",
    "        'cookie_recipe_url':'http://some.okay.me/cookie/raisin.html',\n",
    "        'cookie_sku':'EWW01',\n",
    "        'quantity':'100',\n",
    "        'unit_cost':'1.00'\n",
    "    }\n",
    "     \n",
    "   \n",
    "]\n",
    "result=connection.execute(ins,inventory_list)"
   ]
  },
  {
   "cell_type": "code",
   "execution_count": 37,
   "metadata": {},
   "outputs": [
    {
     "data": {
      "text/plain": [
       "4"
      ]
     },
     "execution_count": 37,
     "metadata": {},
     "output_type": "execute_result"
    }
   ],
   "source": [
    "result.rowcount"
   ]
  },
  {
   "cell_type": "code",
   "execution_count": 38,
   "metadata": {},
   "outputs": [],
   "source": [
    "# You could take this backend sql information and apply those matplotlib calls to them. \n",
    "# You use that generated information to produce reports.\n",
    "# Those reports could cover both sales/PO analysis as well as forecast.\n",
    "# Run any number of those plots to try and gain insight.\n",
    "# You could use python to push this to another application or feed it to the user directly.\n",
    "# Do all kinds of stuff"
   ]
  },
  {
   "cell_type": "code",
   "execution_count": null,
   "metadata": {},
   "outputs": [],
   "source": [
    "#Christopher Brown - SQL EX4 "
   ]
  }
 ],
 "metadata": {
  "kernelspec": {
   "display_name": "Python 3",
   "language": "python",
   "name": "python3"
  },
  "language_info": {
   "codemirror_mode": {
    "name": "ipython",
    "version": 3
   },
   "file_extension": ".py",
   "mimetype": "text/x-python",
   "name": "python",
   "nbconvert_exporter": "python",
   "pygments_lexer": "ipython3",
   "version": "3.6.5"
  }
 },
 "nbformat": 4,
 "nbformat_minor": 2
}
