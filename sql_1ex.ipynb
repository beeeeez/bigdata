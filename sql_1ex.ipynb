{
 "cells": [
  {
   "cell_type": "code",
   "execution_count": 1,
   "metadata": {},
   "outputs": [],
   "source": [
    "from datetime import datetime\n",
    "from sqlalchemy import (MetaData, Table, Column, Integer, Numeric, String,\n",
    "                       DateTime, ForeignKey, Boolean, create_engine)\n",
    "metadata=MetaData()\n",
    "\n",
    "cookies = Table('cookies', metadata,\n",
    "              Column('cookie_id', Integer(), primary_key=True), \n",
    "               Column('cookie_name', String(50), index=True),\n",
    "               Column('cookie_recipe_url', String(225)),\n",
    "               Column('cookie_sku', String(55)),\n",
    "               Column('quantity', Integer()),\n",
    "               Column('unit_cost', Numeric(12,2)))\n",
    "\n",
    "\n",
    "users = Table('users', metadata,\n",
    "              \n",
    "              Column('user_id',Integer(),primary_key=True),\n",
    "              Column('username',String(15), nullable=False, unique=True),\n",
    "              Column('email_address',String(255), nullable=False),\n",
    "              Column('phone',String(20), nullable=False),\n",
    "              Column('password',String(25), nullable=False),\n",
    "              Column('created_on',DateTime(), default=datetime.now),\n",
    "              Column('updated_on',DateTime(), default=datetime.now, onupdate=datetime.now)\n",
    "             \n",
    "             \n",
    "             )\n",
    "\n",
    "orders=Table('orders', metadata,\n",
    "            Column('order_id',Integer(),primary_key=True),\n",
    "            Column('user_id',ForeignKey('users.user_id')),\n",
    "            Column('shipped',Boolean(),default=False)\n",
    "            \n",
    "            )\n",
    "line_items=Table('line_items',metadata,\n",
    "                Column('line_items_id',Integer(), primary_key=True),\n",
    "                Column('order_id',ForeignKey('orders.order_id')),\n",
    "                 Column('cookie_id',ForeignKey('cookies.cookie_id')),\n",
    "                 Column('quantity',Integer()),\n",
    "                 Column('extended_cost',Numeric(12,2))\n",
    "      \n",
    "                )\n",
    "engine = create_engine('sqlite:///:memory:')\n",
    "metadata.create_all(engine)"
   ]
  },
  {
   "cell_type": "code",
   "execution_count": null,
   "metadata": {},
   "outputs": [],
   "source": [
    "#Christopher Brown - SQL ex 1 - "
   ]
  }
 ],
 "metadata": {
  "kernelspec": {
   "display_name": "Python 3",
   "language": "python",
   "name": "python3"
  },
  "language_info": {
   "codemirror_mode": {
    "name": "ipython",
    "version": 3
   },
   "file_extension": ".py",
   "mimetype": "text/x-python",
   "name": "python",
   "nbconvert_exporter": "python",
   "pygments_lexer": "ipython3",
   "version": "3.6.5"
  }
 },
 "nbformat": 4,
 "nbformat_minor": 2
}
