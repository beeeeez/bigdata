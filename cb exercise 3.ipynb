{
 "cells": [
  {
   "cell_type": "code",
   "execution_count": 5,
   "metadata": {},
   "outputs": [
    {
     "name": "stdout",
     "output_type": "stream",
     "text": [
      "outside\n"
     ]
    }
   ],
   "source": [
    "def fun1():\n",
    "    print(\"fun1\")\n",
    "    print(\"more words\")\n",
    "print(\"outside\")"
   ]
  },
  {
   "cell_type": "code",
   "execution_count": 6,
   "metadata": {},
   "outputs": [
    {
     "name": "stdout",
     "output_type": "stream",
     "text": [
      "fun1\n",
      "more words\n"
     ]
    }
   ],
   "source": [
    "fun1()"
   ]
  },
  {
   "cell_type": "code",
   "execution_count": 7,
   "metadata": {},
   "outputs": [],
   "source": [
    "def fun2(x):\n",
    "    return 2*x"
   ]
  },
  {
   "cell_type": "code",
   "execution_count": 8,
   "metadata": {},
   "outputs": [
    {
     "name": "stdout",
     "output_type": "stream",
     "text": [
      "6\n"
     ]
    }
   ],
   "source": [
    "a=fun2(3)\n",
    "print(a)"
   ]
  },
  {
   "cell_type": "code",
   "execution_count": 9,
   "metadata": {},
   "outputs": [],
   "source": [
    "def fun3(x,y):\n",
    "    return x+y"
   ]
  },
  {
   "cell_type": "code",
   "execution_count": 10,
   "metadata": {},
   "outputs": [
    {
     "name": "stdout",
     "output_type": "stream",
     "text": [
      "3\n"
     ]
    }
   ],
   "source": [
    "e=fun3(1,2)\n",
    "print(e)"
   ]
  },
  {
   "cell_type": "code",
   "execution_count": 12,
   "metadata": {},
   "outputs": [],
   "source": [
    "def fun4(thing):\n",
    "    print(thing)\n",
    "    print(\"mmm\")"
   ]
  },
  {
   "cell_type": "code",
   "execution_count": 13,
   "metadata": {},
   "outputs": [
    {
     "name": "stdout",
     "output_type": "stream",
     "text": [
      "hello\n",
      "mmm\n",
      "55\n",
      "mmm\n"
     ]
    }
   ],
   "source": [
    "fun4(\"hello\")\n",
    "fun4(55)"
   ]
  },
  {
   "cell_type": "code",
   "execution_count": 14,
   "metadata": {},
   "outputs": [],
   "source": [
    "n1=\"Bud\"\n",
    "hgt1=2\n",
    "wgt1=90\n",
    "\n",
    "n2=\"Fud\"\n",
    "hgt2=1.8\n",
    "wgt2=70\n",
    "\n",
    "n3=\"Pud\"\n",
    "hgt3=2.5\n",
    "wgt3=160\n"
   ]
  },
  {
   "cell_type": "code",
   "execution_count": null,
   "metadata": {},
   "outputs": [],
   "source": []
  },
  {
   "cell_type": "code",
   "execution_count": 15,
   "metadata": {},
   "outputs": [],
   "source": [
    "def bmi_calc(name,hgt,wgt):\n",
    "    bmi=wgt/(hgt**2)\n",
    "    print(\"bmi :\",end=\"\")\n",
    "    print(bmi)\n",
    "    if bmi<25:\n",
    "        return(name + \" is not bubbly\")\n",
    "    else:\n",
    "        return(name +\" is mubbly\")"
   ]
  },
  {
   "cell_type": "code",
   "execution_count": 16,
   "metadata": {},
   "outputs": [
    {
     "name": "stdout",
     "output_type": "stream",
     "text": [
      "bmi :22.5\n"
     ]
    }
   ],
   "source": [
    "res1=bmi_calc(n1,hgt1,wgt1)"
   ]
  },
  {
   "cell_type": "code",
   "execution_count": 17,
   "metadata": {},
   "outputs": [
    {
     "name": "stdout",
     "output_type": "stream",
     "text": [
      "Bud is not bubbly\n"
     ]
    }
   ],
   "source": [
    "print(res1)"
   ]
  },
  {
   "cell_type": "code",
   "execution_count": 15,
   "metadata": {},
   "outputs": [],
   "source": [
    "def bmi_calc(name,hgt,wgt):\n",
    "    bmi=wgt/(hgt**2)\n",
    "    print(\"bmi :\",end=\"\")\n",
    "    print(bmi)\n",
    "    if bmi<25:\n",
    "        return(name + \" is not bubbly\")\n",
    "    else:\n",
    "        return(name +\" is mubbly\")"
   ]
  },
  {
   "cell_type": "code",
   "execution_count": 16,
   "metadata": {},
   "outputs": [
    {
     "name": "stdout",
     "output_type": "stream",
     "text": [
      "bmi :22.5\n"
     ]
    }
   ],
   "source": [
    "res1=bmi_calc(n2,hgt2,wgt2)"
   ]
  },
  {
   "cell_type": "code",
   "execution_count": 17,
   "metadata": {},
   "outputs": [
    {
     "name": "stdout",
     "output_type": "stream",
     "text": [
      "Bud is not bubbly\n"
     ]
    }
   ],
   "source": [
    "print(res1)"
   ]
  },
  {
   "cell_type": "code",
   "execution_count": 15,
   "metadata": {},
   "outputs": [],
   "source": [
    "def bmi_calc(name,hgt,wgt):\n",
    "    bmi=wgt/(hgt**2)\n",
    "    print(\"bmi :\",end=\"\")\n",
    "    print(bmi)\n",
    "    if bmi<25:\n",
    "        return(name + \" is not bubbly\")\n",
    "    else:\n",
    "        return(name +\" is mubbly\")"
   ]
  },
  {
   "cell_type": "code",
   "execution_count": 18,
   "metadata": {},
   "outputs": [
    {
     "name": "stdout",
     "output_type": "stream",
     "text": [
      "bmi :25.6\n"
     ]
    }
   ],
   "source": [
    "res1=bmi_calc(n3,hgt3,wgt3)"
   ]
  },
  {
   "cell_type": "code",
   "execution_count": 23,
   "metadata": {},
   "outputs": [
    {
     "name": "stdout",
     "output_type": "stream",
     "text": [
      "Pud is mubbly\n"
     ]
    }
   ],
   "source": [
    "print(res1)"
   ]
  },
  {
   "cell_type": "code",
   "execution_count": 24,
   "metadata": {},
   "outputs": [],
   "source": [
    "def mileConverter(m):\n",
    "    return m*1.60934"
   ]
  },
  {
   "cell_type": "code",
   "execution_count": 25,
   "metadata": {},
   "outputs": [
    {
     "name": "stdout",
     "output_type": "stream",
     "text": [
      "20 miles is 32.1868 km\n"
     ]
    }
   ],
   "source": [
    "print(\"20 miles is \",end=\"\")\n",
    "print(mileConverter(20),end=\"\")\n",
    "print(\" km\")"
   ]
  },
  {
   "cell_type": "code",
   "execution_count": null,
   "metadata": {},
   "outputs": [],
   "source": [
    "#Christopher Brown - Exercise 2.3"
   ]
  }
 ],
 "metadata": {
  "kernelspec": {
   "display_name": "Python 3",
   "language": "python",
   "name": "python3"
  },
  "language_info": {
   "codemirror_mode": {
    "name": "ipython",
    "version": 3
   },
   "file_extension": ".py",
   "mimetype": "text/x-python",
   "name": "python",
   "nbconvert_exporter": "python",
   "pygments_lexer": "ipython3",
   "version": "3.6.5"
  }
 },
 "nbformat": 4,
 "nbformat_minor": 2
}
