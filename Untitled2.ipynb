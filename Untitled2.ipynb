{
 "cells": [
  {
   "cell_type": "code",
   "execution_count": 7,
   "metadata": {},
   "outputs": [
    {
     "data": {
      "text/plain": [
       "{'George': 24, 'Tom': 32}"
      ]
     },
     "execution_count": 7,
     "metadata": {},
     "output_type": "execute_result"
    }
   ],
   "source": [
    "d={}\n",
    "d={\"George\":44,\"Tom\":32}\n",
    "d[\"George\"]=24\n",
    "d"
   ]
  },
  {
   "cell_type": "code",
   "execution_count": 8,
   "metadata": {},
   "outputs": [],
   "source": [
    "d[\"Tom\"]=32\n",
    "d[\"Jenny\"]=16"
   ]
  },
  {
   "cell_type": "code",
   "execution_count": 9,
   "metadata": {},
   "outputs": [
    {
     "data": {
      "text/plain": [
       "24"
      ]
     },
     "execution_count": 9,
     "metadata": {},
     "output_type": "execute_result"
    }
   ],
   "source": [
    "d[\"George\"]"
   ]
  },
  {
   "cell_type": "code",
   "execution_count": 11,
   "metadata": {},
   "outputs": [
    {
     "data": {
      "text/plain": [
       "35"
      ]
     },
     "execution_count": 11,
     "metadata": {},
     "output_type": "execute_result"
    }
   ],
   "source": [
    "d[\"George\"]=35\n",
    "d[\"George\"]"
   ]
  },
  {
   "cell_type": "code",
   "execution_count": 12,
   "metadata": {},
   "outputs": [
    {
     "data": {
      "text/plain": [
       "100"
      ]
     },
     "execution_count": 12,
     "metadata": {},
     "output_type": "execute_result"
    }
   ],
   "source": [
    "d[10]=100\n",
    "d[10]"
   ]
  },
  {
   "cell_type": "code",
   "execution_count": 13,
   "metadata": {},
   "outputs": [
    {
     "name": "stdout",
     "output_type": "stream",
     "text": [
      "{'George': 35, 'Tom': 32, 'Jenny': 16, 10: 100}\n"
     ]
    }
   ],
   "source": [
    "print(d)"
   ]
  },
  {
   "cell_type": "code",
   "execution_count": 17,
   "metadata": {},
   "outputs": [
    {
     "name": "stdout",
     "output_type": "stream",
     "text": [
      "key: George\n",
      "value: 35\n",
      " \n",
      "key: Tom\n",
      "value: 32\n",
      " \n",
      "key: Jenny\n",
      "value: 16\n",
      " \n",
      "key: 10\n",
      "value: 100\n",
      " \n"
     ]
    }
   ],
   "source": [
    "for k,v in d.items():\n",
    "    print(\"key: \",end=\"\")\n",
    "    print(k)\n",
    "    print(\"value: \",end=\"\")\n",
    "    print(v)\n",
    "    print(\" \")"
   ]
  },
  {
   "cell_type": "code",
   "execution_count": 20,
   "metadata": {},
   "outputs": [
    {
     "name": "stdout",
     "output_type": "stream",
     "text": [
      "AL : Alabama\n",
      "AK : Alaska\n",
      "AZ : Arizona\n",
      "AR : Arkansas\n",
      "CA : California\n",
      "CO : Colorado\n",
      "CT : Connecticut\n",
      "DE : Delaware\n",
      "FL : Florida\n",
      "GA : Georiga\n"
     ]
    }
   ],
   "source": [
    "d={\"AL\":\"Alabama\",\n",
    "   \"AK\":\"Alaska\",\n",
    "   \"AZ\":\"Arizona\",\n",
    "   \"AR\":\"Arkansas\",\n",
    "   \"CA\":\"California\",\n",
    "   \"CO\":\"Colorado\",\n",
    "   \"CT\":\"Connecticut\",\n",
    "   \"DE\":\"Delaware\", \n",
    "   \"FL\":\"Florida\",\n",
    "   \"GA\":\"Georiga\" \n",
    "  }\n",
    "for x,y in d.items():\n",
    "    print(x + \" : \"+y)\n"
   ]
  },
  {
   "cell_type": "code",
   "execution_count": null,
   "metadata": {},
   "outputs": [],
   "source": [
    "#Christopher Brown  - Exercise 2.6"
   ]
  }
 ],
 "metadata": {
  "kernelspec": {
   "display_name": "Python 3",
   "language": "python",
   "name": "python3"
  },
  "language_info": {
   "codemirror_mode": {
    "name": "ipython",
    "version": 3
   },
   "file_extension": ".py",
   "mimetype": "text/x-python",
   "name": "python",
   "nbconvert_exporter": "python",
   "pygments_lexer": "ipython3",
   "version": "3.6.5"
  }
 },
 "nbformat": 4,
 "nbformat_minor": 2
}
