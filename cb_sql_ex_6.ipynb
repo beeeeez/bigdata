{
 "cells": [
  {
   "cell_type": "code",
   "execution_count": 1,
   "metadata": {},
   "outputs": [],
   "source": [
    "from sqlalchemy.ext.declarative import declarative_base\n",
    "from sqlalchemy import Table, Column, Integer, Numeric, String, Boolean\n",
    "\n",
    "Base = declarative_base()\n",
    "\n",
    "class Cookie(Base):\n",
    "    __tablename__='cookies'\n",
    "    \n",
    "    cookie_id=Column(Integer(),primary_key=True)\n",
    "    cookie_name=Column(String(50),index=True)\n",
    "    cookie_recipe_url=Column(String(255))\n",
    "    cookie_sku=Column(String(55))\n",
    "    quantity=Column(Integer())\n",
    "    unit_cost=Column(Numeric(12,2))\n",
    "    "
   ]
  },
  {
   "cell_type": "code",
   "execution_count": 2,
   "metadata": {},
   "outputs": [
    {
     "data": {
      "text/plain": [
       "Table('cookies', MetaData(bind=None), Column('cookie_id', Integer(), table=<cookies>, primary_key=True, nullable=False), Column('cookie_name', String(length=50), table=<cookies>), Column('cookie_recipe_url', String(length=255), table=<cookies>), Column('cookie_sku', String(length=55), table=<cookies>), Column('quantity', Integer(), table=<cookies>), Column('unit_cost', Numeric(precision=12, scale=2), table=<cookies>), schema=None)"
      ]
     },
     "execution_count": 2,
     "metadata": {},
     "output_type": "execute_result"
    }
   ],
   "source": [
    "Cookie.__table__"
   ]
  },
  {
   "cell_type": "code",
   "execution_count": 3,
   "metadata": {},
   "outputs": [],
   "source": [
    "from datetime import datetime\n",
    "from sqlalchemy import DateTime\n",
    "\n",
    "class User(Base):\n",
    "    __tablename__='users'\n",
    "    \n",
    "    user_id=Column(Integer(),primary_key=True)\n",
    "    username=Column(String(15),nullable=False,unique=True)\n",
    "    email_address=Column(String(255),nullable=False)\n",
    "    phone=Column(String(20),nullable=False)\n",
    "    password=Column(String(25),nullable=False)\n",
    "    create_on=Column(DateTime(),default=datetime.now)\n",
    "    update_on=Column(DateTime(),default=datetime.now,onupdate=datetime.now)\n",
    "    "
   ]
  },
  {
   "cell_type": "code",
   "execution_count": 4,
   "metadata": {},
   "outputs": [
    {
     "data": {
      "text/plain": [
       "Table('users', MetaData(bind=None), Column('user_id', Integer(), table=<users>, primary_key=True, nullable=False), Column('username', String(length=15), table=<users>, nullable=False), Column('email_address', String(length=255), table=<users>, nullable=False), Column('phone', String(length=20), table=<users>, nullable=False), Column('password', String(length=25), table=<users>, nullable=False), Column('create_on', DateTime(), table=<users>, default=ColumnDefault(<function datetime.now at 0x00000175B78EE048>)), Column('update_on', DateTime(), table=<users>, onupdate=ColumnDefault(<function datetime.now at 0x00000175B78EE268>), default=ColumnDefault(<function datetime.now at 0x00000175B78EE158>)), schema=None)"
      ]
     },
     "execution_count": 4,
     "metadata": {},
     "output_type": "execute_result"
    }
   ],
   "source": [
    "User.__table__"
   ]
  },
  {
   "cell_type": "code",
   "execution_count": 5,
   "metadata": {},
   "outputs": [],
   "source": [
    "from sqlalchemy import ForeignKey\n",
    "from sqlalchemy.orm import relationship,backref\n",
    "\n",
    "class Order(Base):\n",
    "    __tablename__='orders'\n",
    "    order_id=Column(Integer(),primary_key=True)\n",
    "    user_id=Column(Integer(), ForeignKey('users.user_id'))\n",
    "    shipped=Column(Boolean(),default=False)\n",
    "    user=relationship(\"User\",backref=backref('orders',order_by=id))\n",
    "    \n",
    "class LineItems(Base):\n",
    "    __tablename__='line_items'\n",
    "    line_items_id=Column(Integer(),primary_key=True)\n",
    "    order_id=Column(Integer(),ForeignKey('orders.order_id'))\n",
    "    cookie_id=Column(Integer(),ForeignKey('cookies.cookie_id'))\n",
    "    quantity=Column(Integer())\n",
    "    extended_cost=Column(Numeric(12,2))\n",
    "    order=relationship(\"Order\",backref=backref('line_items',order_by=line_items_id))\n",
    "    cookie=relationship(\"Cookie\",uselist=False)"
   ]
  },
  {
   "cell_type": "code",
   "execution_count": 6,
   "metadata": {},
   "outputs": [],
   "source": [
    "from sqlalchemy import create_engine\n",
    "engine=create_engine('sqlite:///:memory:')\n",
    "\n",
    "Base.metadata.create_all(engine)"
   ]
  },
  {
   "cell_type": "code",
   "execution_count": 7,
   "metadata": {},
   "outputs": [],
   "source": [
    "#it is the  beginning of setting up a connection to an actual database? \n",
    "#looks like its the first step before setting up a dialect and a pool\n",
    "#in this case, looks like we're mapping the engine to use sqlite and to write it to memory\n",
    "#the engine object is used to interact with the database"
   ]
  },
  {
   "cell_type": "code",
   "execution_count": null,
   "metadata": {},
   "outputs": [],
   "source": [
    "#Christopher Brown - Sql ex 6 "
   ]
  }
 ],
 "metadata": {
  "kernelspec": {
   "display_name": "Python 3",
   "language": "python",
   "name": "python3"
  },
  "language_info": {
   "codemirror_mode": {
    "name": "ipython",
    "version": 3
   },
   "file_extension": ".py",
   "mimetype": "text/x-python",
   "name": "python",
   "nbconvert_exporter": "python",
   "pygments_lexer": "ipython3",
   "version": "3.6.5"
  }
 },
 "nbformat": 4,
 "nbformat_minor": 2
}
