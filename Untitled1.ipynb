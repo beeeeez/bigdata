{
 "cells": [
  {
   "cell_type": "code",
   "execution_count": 1,
   "metadata": {},
   "outputs": [],
   "source": [
    "a=[\"banana\",\"apple\",\"brisket\"]\n"
   ]
  },
  {
   "cell_type": "code",
   "execution_count": 3,
   "metadata": {},
   "outputs": [
    {
     "name": "stdout",
     "output_type": "stream",
     "text": [
      "banana\n",
      "apple\n",
      "brisket\n"
     ]
    }
   ],
   "source": [
    "print(a[0])\n",
    "print(a[1])\n",
    "print(a[2])"
   ]
  },
  {
   "cell_type": "code",
   "execution_count": 4,
   "metadata": {},
   "outputs": [
    {
     "name": "stdout",
     "output_type": "stream",
     "text": [
      "banana\n",
      "apple\n",
      "brisket\n"
     ]
    }
   ],
   "source": [
    "for e in a:\n",
    "    print(e)"
   ]
  },
  {
   "cell_type": "code",
   "execution_count": 5,
   "metadata": {},
   "outputs": [
    {
     "name": "stdout",
     "output_type": "stream",
     "text": [
      "banana\n",
      "banana\n",
      "apple\n",
      "apple\n",
      "brisket\n",
      "brisket\n"
     ]
    }
   ],
   "source": [
    "for e in a:\n",
    "    print(e)\n",
    "    print(e)"
   ]
  },
  {
   "cell_type": "code",
   "execution_count": 7,
   "metadata": {},
   "outputs": [
    {
     "name": "stdout",
     "output_type": "stream",
     "text": [
      "20\n",
      "10\n",
      "5\n"
     ]
    }
   ],
   "source": [
    "b=[20,10,5]\n",
    "for e in b:\n",
    "    print(e)"
   ]
  },
  {
   "cell_type": "code",
   "execution_count": 14,
   "metadata": {},
   "outputs": [
    {
     "name": "stdout",
     "output_type": "stream",
     "text": [
      "35\n"
     ]
    }
   ],
   "source": [
    "b=[20,10,5]\n",
    "tot=0\n",
    "for e in b:\n",
    "    tot+=e\n",
    "print(tot)"
   ]
  },
  {
   "cell_type": "code",
   "execution_count": 17,
   "metadata": {},
   "outputs": [
    {
     "data": {
      "text/plain": [
       "range(1, 5)"
      ]
     },
     "execution_count": 17,
     "metadata": {},
     "output_type": "execute_result"
    }
   ],
   "source": [
    "range(1,5)"
   ]
  },
  {
   "cell_type": "code",
   "execution_count": 18,
   "metadata": {},
   "outputs": [
    {
     "data": {
      "text/plain": [
       "range(1, 100)"
      ]
     },
     "execution_count": 18,
     "metadata": {},
     "output_type": "execute_result"
    }
   ],
   "source": [
    "#answer to range question\n",
    "range(1,10*10)"
   ]
  },
  {
   "cell_type": "code",
   "execution_count": 20,
   "metadata": {},
   "outputs": [
    {
     "data": {
      "text/plain": [
       "[1, 2, 3, 4]"
      ]
     },
     "execution_count": 20,
     "metadata": {},
     "output_type": "execute_result"
    }
   ],
   "source": [
    "list(range(1,5))"
   ]
  },
  {
   "cell_type": "code",
   "execution_count": 21,
   "metadata": {},
   "outputs": [],
   "source": [
    "c = list(range(1,5))"
   ]
  },
  {
   "cell_type": "code",
   "execution_count": 22,
   "metadata": {},
   "outputs": [
    {
     "name": "stdout",
     "output_type": "stream",
     "text": [
      "[1, 2, 3, 4]\n"
     ]
    }
   ],
   "source": [
    "print(c)"
   ]
  },
  {
   "cell_type": "code",
   "execution_count": 24,
   "metadata": {},
   "outputs": [
    {
     "name": "stdout",
     "output_type": "stream",
     "text": [
      "1\n",
      "2\n",
      "3\n",
      "4\n"
     ]
    }
   ],
   "source": [
    "for i in range(1,5):\n",
    "    print(i)"
   ]
  },
  {
   "cell_type": "code",
   "execution_count": 26,
   "metadata": {},
   "outputs": [
    {
     "name": "stdout",
     "output_type": "stream",
     "text": [
      "[1, 2, 3, 4, 5, 6, 7]\n"
     ]
    }
   ],
   "source": [
    "print(list(range(1,8)))"
   ]
  },
  {
   "cell_type": "code",
   "execution_count": 27,
   "metadata": {},
   "outputs": [],
   "source": [
    "tot3=0\n",
    "for i in range(1,8):\n",
    "    if i % 3==0:\n",
    "        tot3+=i"
   ]
  },
  {
   "cell_type": "code",
   "execution_count": 28,
   "metadata": {},
   "outputs": [
    {
     "data": {
      "text/plain": [
       "9"
      ]
     },
     "execution_count": 28,
     "metadata": {},
     "output_type": "execute_result"
    }
   ],
   "source": [
    "tot3"
   ]
  },
  {
   "cell_type": "code",
   "execution_count": 39,
   "metadata": {},
   "outputs": [
    {
     "name": "stdout",
     "output_type": "stream",
     "text": [
      "3 is divisble by 3!\n",
      "5 is divisble by 5!\n",
      "6 is divisble by 3!\n",
      "9 is divisble by 3!\n",
      "10 is divisble by 5!\n",
      "12 is divisble by 3!\n",
      "15 is divisble by 3!\n",
      "18 is divisble by 3!\n",
      "20 is divisble by 5!\n",
      "21 is divisble by 3!\n",
      "24 is divisble by 3!\n",
      "25 is divisble by 5!\n",
      "27 is divisble by 3!\n",
      "30 is divisble by 3!\n",
      "33 is divisble by 3!\n",
      "35 is divisble by 5!\n",
      "36 is divisble by 3!\n",
      "39 is divisble by 3!\n",
      "40 is divisble by 5!\n",
      "42 is divisble by 3!\n",
      "45 is divisble by 3!\n",
      "48 is divisble by 3!\n",
      "50 is divisble by 5!\n",
      "51 is divisble by 3!\n",
      "54 is divisble by 3!\n",
      "55 is divisble by 5!\n",
      "57 is divisble by 3!\n",
      "60 is divisble by 3!\n",
      "63 is divisble by 3!\n",
      "65 is divisble by 5!\n",
      "66 is divisble by 3!\n",
      "69 is divisble by 3!\n",
      "70 is divisble by 5!\n",
      "72 is divisble by 3!\n",
      "75 is divisble by 3!\n",
      "78 is divisble by 3!\n",
      "80 is divisble by 5!\n",
      "81 is divisble by 3!\n",
      "84 is divisble by 3!\n",
      "85 is divisble by 5!\n",
      "87 is divisble by 3!\n",
      "90 is divisble by 3!\n",
      "93 is divisble by 3!\n",
      "95 is divisble by 5!\n",
      "96 is divisble by 3!\n",
      "99 is divisble by 3!\n"
     ]
    },
    {
     "data": {
      "text/plain": [
       "2318"
      ]
     },
     "execution_count": 39,
     "metadata": {},
     "output_type": "execute_result"
    }
   ],
   "source": [
    "#answer to question at end\n",
    "tot=0\n",
    "for i in range(1,10*10):\n",
    "    if i % 3 == 0:\n",
    "        tot+=i\n",
    "        print(i,end=\"\")\n",
    "        print(\" is divisble by 3!\")\n",
    "    elif i % 5==0:\n",
    "        tot+=i\n",
    "        print(i,end=\"\")\n",
    "        print(\" is divisble by 5!\")\n",
    "tot"
   ]
  },
  {
   "cell_type": "code",
   "execution_count": null,
   "metadata": {},
   "outputs": [],
   "source": [
    "#Christopher Brown - Exercise 2.5"
   ]
  }
 ],
 "metadata": {
  "kernelspec": {
   "display_name": "Python 3",
   "language": "python",
   "name": "python3"
  },
  "language_info": {
   "codemirror_mode": {
    "name": "ipython",
    "version": 3
   },
   "file_extension": ".py",
   "mimetype": "text/x-python",
   "name": "python",
   "nbconvert_exporter": "python",
   "pygments_lexer": "ipython3",
   "version": "3.6.5"
  }
 },
 "nbformat": 4,
 "nbformat_minor": 2
}
