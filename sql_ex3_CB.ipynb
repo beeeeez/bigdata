{
 "cells": [
  {
   "cell_type": "code",
   "execution_count": 1,
   "metadata": {},
   "outputs": [],
   "source": [
    "from datetime import datetime\n",
    "from sqlalchemy import (MetaData, Table, Column, Integer, Numeric, String,\n",
    "                       DateTime, ForeignKey, Boolean, create_engine)\n",
    "metadata=MetaData()\n",
    "\n",
    "cookies = Table('cookies', metadata,\n",
    "              Column('cookie_id', Integer(), primary_key=True), \n",
    "               Column('cookie_name', String(50), index=True),\n",
    "               Column('cookie_recipe_url', String(225)),\n",
    "               Column('cookie_sku', String(55)),\n",
    "               Column('quantity', Integer()),\n",
    "               Column('unit_cost', Numeric(12,2)))\n",
    "\n",
    "\n",
    "users = Table('users', metadata,\n",
    "              \n",
    "              Column('user_id',Integer(),primary_key=True),\n",
    "              Column('username',String(15), nullable=False, unique=True),\n",
    "              Column('email_address',String(255), nullable=False),\n",
    "              Column('phone',String(20), nullable=False),\n",
    "              Column('password',String(25), nullable=False),\n",
    "              Column('created_on',DateTime(), default=datetime.now),\n",
    "              Column('updated_on',DateTime(), default=datetime.now, onupdate=datetime.now)\n",
    "             \n",
    "             \n",
    "             )\n",
    "\n",
    "orders=Table('orders', metadata,\n",
    "            Column('order_id',Integer(),primary_key=True),\n",
    "            Column('user_id',ForeignKey('users.user_id')),\n",
    "            Column('shipped',Boolean(),default=False)\n",
    "            \n",
    "            )\n",
    "line_items=Table('line_items',metadata,\n",
    "                Column('line_items_id',Integer(), primary_key=True),\n",
    "                Column('order_id',ForeignKey('orders.order_id')),\n",
    "                 Column('cookie_id',ForeignKey('cookies.cookie_id')),\n",
    "                 Column('quantity',Integer()),\n",
    "                 Column('extended_cost',Numeric(12,2))\n",
    "      \n",
    "                )\n",
    "engine = create_engine('sqlite:///:memory:')\n",
    "metadata.create_all(engine)"
   ]
  },
  {
   "cell_type": "code",
   "execution_count": 2,
   "metadata": {},
   "outputs": [],
   "source": [
    "connection=engine.connect()"
   ]
  },
  {
   "cell_type": "code",
   "execution_count": 4,
   "metadata": {},
   "outputs": [
    {
     "name": "stdout",
     "output_type": "stream",
     "text": [
      "INSERT INTO cookies (cookie_name, cookie_recipe_url, cookie_sku, quantity, unit_cost) VALUES (:cookie_name, :cookie_recipe_url, :cookie_sku, :quantity, :unit_cost)\n"
     ]
    }
   ],
   "source": [
    "ins=cookies.insert().values(\n",
    "cookie_name=\"chocolate chip\",\n",
    "cookie_recipe_url=\"http://some.aweso.me/cookie/recipe.html\",\n",
    "cookie_sku=\"CC01\",\n",
    "quantity=\"12\",\n",
    "unit_cost=\"0.50\")\n",
    "print(str(ins))"
   ]
  },
  {
   "cell_type": "code",
   "execution_count": 5,
   "metadata": {},
   "outputs": [
    {
     "data": {
      "text/plain": [
       "{'cookie_name': 'chocolate chip',\n",
       " 'cookie_recipe_url': 'http://some.aweso.me/cookie/recipe.html',\n",
       " 'cookie_sku': 'CC01',\n",
       " 'quantity': '12',\n",
       " 'unit_cost': '0.50'}"
      ]
     },
     "execution_count": 5,
     "metadata": {},
     "output_type": "execute_result"
    }
   ],
   "source": [
    "\n",
    "ins.compile().params"
   ]
  },
  {
   "cell_type": "code",
   "execution_count": 6,
   "metadata": {},
   "outputs": [],
   "source": [
    "result=connection.execute(ins)"
   ]
  },
  {
   "cell_type": "code",
   "execution_count": 7,
   "metadata": {},
   "outputs": [
    {
     "data": {
      "text/plain": [
       "[1]"
      ]
     },
     "execution_count": 7,
     "metadata": {},
     "output_type": "execute_result"
    }
   ],
   "source": [
    "result.inserted_primary_key"
   ]
  },
  {
   "cell_type": "code",
   "execution_count": 8,
   "metadata": {},
   "outputs": [
    {
     "data": {
      "text/plain": [
       "'INSERT INTO cookies (cookie_name, cookie_recipe_url, cookie_sku, quantity, unit_cost) VALUES (:cookie_name, :cookie_recipe_url, :cookie_sku, :quantity, :unit_cost)'"
      ]
     },
     "execution_count": 8,
     "metadata": {},
     "output_type": "execute_result"
    }
   ],
   "source": [
    "\n",
    "from sqlalchemy import insert\n",
    "ins=insert(cookies).values(cookie_name=\"chocolate chip\",\n",
    "cookie_recipe_url=\"http://some.aweso.me/cookie/recipe.html\",\n",
    "cookie_sku=\"CC01\",\n",
    "quantity=\"12\",\n",
    "unit_cost=\"0.50\")\n",
    "str(ins)"
   ]
  },
  {
   "cell_type": "code",
   "execution_count": 9,
   "metadata": {},
   "outputs": [],
   "source": [
    "ins =cookies.insert()\n",
    "result=connection.execute(ins, cookie_name='dark chocolate chip',\n",
    "                         cookie_recipe_url='http://some.aweso.me/cookie/recipe_dark.html',\n",
    "                         cookie_sku='CC02',\n",
    "                         quantity='1',\n",
    "                         unit_cost='0.75')"
   ]
  },
  {
   "cell_type": "code",
   "execution_count": 10,
   "metadata": {},
   "outputs": [
    {
     "data": {
      "text/plain": [
       "[2]"
      ]
     },
     "execution_count": 10,
     "metadata": {},
     "output_type": "execute_result"
    }
   ],
   "source": [
    "result.inserted_primary_key"
   ]
  },
  {
   "cell_type": "code",
   "execution_count": null,
   "metadata": {},
   "outputs": [],
   "source": []
  }
 ],
 "metadata": {
  "kernelspec": {
   "display_name": "Python 3",
   "language": "python",
   "name": "python3"
  },
  "language_info": {
   "codemirror_mode": {
    "name": "ipython",
    "version": 3
   },
   "file_extension": ".py",
   "mimetype": "text/x-python",
   "name": "python",
   "nbconvert_exporter": "python",
   "pygments_lexer": "ipython3",
   "version": "3.6.5"
  }
 },
 "nbformat": 4,
 "nbformat_minor": 2
}
