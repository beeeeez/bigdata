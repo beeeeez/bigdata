{
 "cells": [
  {
   "cell_type": "code",
   "execution_count": 5,
   "metadata": {},
   "outputs": [
    {
     "name": "stdout",
     "output_type": "stream",
     "text": [
      "{'hi': 'hello my name is Jimbo the Bot', 'hello': 'hello my name is Jimbo the Bot', 'car': 'my favorite car is a mustang', 'superbowl': 'i think the miami dolphins are going to win the superbowl', 'apple': 'I hate apple', 'computer': 'I am the computer bud', 'data': 'facebook is collecting it all', 'cheese': 'yep, this program is a bucket full of cheese', 'meaningful': 'yeah, i probably dont really say meaningful stuff, but at least i respond to keywords!', 'exercise': 'i need to catch up on my exercises', 'stop': \"i cant stop and won't stop\", 'weird': \"you're the weirdo\", 'cold': 'its freezing outside'}\n"
     ]
    }
   ],
   "source": [
    "import nltk\n",
    "import string\n",
    "import re\n",
    "\n",
    "dictionary = {\n",
    "       \"hi\":\"hello my name is Jimbo the Bot\", \n",
    "    \"hello\":\"hello my name is Jimbo the Bot\", \n",
    "       \"car\":\"my favorite car is a mustang\",\n",
    "       \"superbowl\":\"i think the miami dolphins are going to win the superbowl\",\n",
    "    \"apple\":\"I hate apple\",\n",
    "    \"computer\":\"I am the computer bud\",\n",
    "    \"data\":\"facebook is collecting it all\",\n",
    "    \"cheese\":\"yep, this program is a bucket full of cheese\",\n",
    "    \"meaningful\":\"yeah, i probably dont really say meaningful stuff, but at least i respond to keywords!\",\n",
    "    \"exercise\":\"i need to catch up on my exercises\",\n",
    "    \"stop\":\"i cant stop and won't stop\",\n",
    "    \"weird\":\"you're the weirdo\",\n",
    "    \"cold\":\"its freezing outside\",\n",
    "       }\n",
    "print(dictionary)\n",
    "\n"
   ]
  },
  {
   "cell_type": "code",
   "execution_count": 8,
   "metadata": {},
   "outputs": [
    {
     "name": "stdout",
     "output_type": "stream",
     "text": [
      "\n",
      "Talk to bot ('XX' to quit) : hello\n",
      "\n",
      "+hello my name is Jimbo the Bot\n",
      "\n",
      "Talk to bot ('XX' to quit) : whats your favorite car?\n",
      "\n",
      "+my favorite car is a mustang\n",
      "\n",
      "Talk to bot ('XX' to quit) : thoughts on the superbowl?\n",
      "\n",
      "+i think the miami dolphins are going to win the superbowl\n",
      "\n",
      "Talk to bot ('XX' to quit) : eww thats weird\n",
      "\n",
      "+you're the weirdo\n",
      "\n",
      "Talk to bot ('XX' to quit) : can you stop?\n",
      "\n",
      "+i cant stop and won't stop\n",
      "\n",
      "Talk to bot ('XX' to quit) : XX\n",
      "bye\n"
     ]
    }
   ],
   "source": [
    "flag=0\n",
    "while flag==0:\n",
    "    stuff = input(\"\\nTalk to bot ('XX' to quit) : \")\n",
    "    if(stuff==\"XX\"):\n",
    "        flag=1\n",
    "        splitStuff=\"\"\n",
    "    else:\n",
    "        splitStuff=re.split('\\W+',stuff)\n",
    "        splitStuff=[word for word in splitStuff if word not in string.punctuation]\n",
    "    response=\"\"\n",
    "    for word in splitStuff:\n",
    "        cheese=\"\"\n",
    "        if str.lower(word) in dictionary:\n",
    "            cheese+=\"\\n+\"+dictionary[str.lower(word)]\n",
    "        response=cheese\n",
    "    if splitStuff==\"\":\n",
    "        response=\"bye\"\n",
    "    elif(response==\"\"):\n",
    "        response=\"\\nI dont know man\"\n",
    "    print(response)     \n",
    "    \n",
    "    \n"
   ]
  },
  {
   "cell_type": "code",
   "execution_count": 7,
   "metadata": {},
   "outputs": [],
   "source": [
    "\n",
    "#Quest 3 - Christopher Brown"
   ]
  },
  {
   "cell_type": "code",
   "execution_count": null,
   "metadata": {},
   "outputs": [],
   "source": []
  }
 ],
 "metadata": {
  "kernelspec": {
   "display_name": "Python 3",
   "language": "python",
   "name": "python3"
  },
  "language_info": {
   "codemirror_mode": {
    "name": "ipython",
    "version": 3
   },
   "file_extension": ".py",
   "mimetype": "text/x-python",
   "name": "python",
   "nbconvert_exporter": "python",
   "pygments_lexer": "ipython3",
   "version": "3.6.5"
  }
 },
 "nbformat": 4,
 "nbformat_minor": 2
}
