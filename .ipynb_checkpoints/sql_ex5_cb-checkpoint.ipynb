{
 "cells": [
  {
   "cell_type": "code",
   "execution_count": 10,
   "metadata": {},
   "outputs": [],
   "source": [
    "from datetime import datetime\n",
    "\n",
    "from sqlalchemy import (MetaData, Table, Column, Integer, Numeric, String,\n",
    "                       DateTime, ForeignKey, Boolean, create_engine, CheckConstraint)\n",
    "\n",
    "metadata=MetaData()\n",
    "\n",
    "cookies=Table('cookies',metadata,\n",
    "             Column('cookie_id',Integer(),primary_key=True),\n",
    "             Column('cookie_name',String(50),index=True),\n",
    "             Column('cookie_recipe_url',String(255)),\n",
    "             Column('cookie_sku',String(55)),\n",
    "             Column('quantity',Integer()),\n",
    "             Column('unit_cost',Numeric(12,2)),\n",
    "             CheckConstraint('quantity >= 0',name='quantity_positive') \n",
    "             )\n",
    "\n",
    "users=Table('users',metadata,\n",
    "             Column('user_id',Integer(),primary_key=True),\n",
    "             Column('username',String(15),nullable=False,unique=True),\n",
    "             Column('email_address',String(255),nullable=False),\n",
    "             Column('phone',String(20),nullable=False),\n",
    "             Column('password',String(25),nullable=False),\n",
    "             Column('created_on',DateTime(),default=datetime.now),\n",
    "             Column('updated_on',DateTime(),default=datetime.now,onupdate=datetime.now)\n",
    "             )\n",
    "\n",
    "orders=Table('orders',metadata,\n",
    "            Column('order_id',Integer()),\n",
    "            Column('user_id',ForeignKey('users.user_id')),\n",
    "            Column('shipped',Boolean(),default=False)\n",
    "            )\n",
    "\n",
    "\n",
    "line_items=Table('line_items',metadata,\n",
    "             Column('line_items_id',Integer(),primary_key=True),\n",
    "             Column('order_id',ForeignKey('orders.order_id')),\n",
    "             Column('cookie_id',ForeignKey('cookies.cookie_id')),\n",
    "             Column('quantity',Integer()),\n",
    "             Column('extended_cost',Numeric(12,2))             \n",
    "             )\n",
    "\n",
    "engine=create_engine('sqlite:///:memory:')\n",
    "metadata.create_all(engine)\n",
    "connection=engine.connect()"
   ]
  },
  {
   "cell_type": "code",
   "execution_count": 11,
   "metadata": {},
   "outputs": [],
   "source": [
    "from sqlalchemy import select, insert, update\n",
    "ins=insert(users).values(\n",
    "    username=\"cookiemon\",\n",
    "    email_address=\"mon@cookie.com\",\n",
    "    phone=\"111-111-1111\",\n",
    "    password=\"password\"\n",
    ")\n",
    "result=connection.execute(ins)"
   ]
  },
  {
   "cell_type": "code",
   "execution_count": 12,
   "metadata": {},
   "outputs": [],
   "source": [
    "ins=cookies.insert()\n",
    "inventory_list=[\n",
    "    {\n",
    "        'cookie_name':'chocolate chip',\n",
    "        'cookie_recipe_url':'http://some.aweso.me/cookie/recipe.html',\n",
    "        'cookie_sku':'CC1',\n",
    "        'quantity':'12',\n",
    "        'unit_cost':'0.50'\n",
    "    },\n",
    "     {\n",
    "        'cookie_name':'dark chocolate chip',\n",
    "        'cookie_recipe_url':'http://some.aweso.me/cookie/recipe_dark.html',\n",
    "        'cookie_sku':'CC02',\n",
    "        'quantity':'1',\n",
    "        'unit_cost':'0.75'\n",
    "    }\n",
    "]\n",
    "result = connection.execute(ins,inventory_list)\n"
   ]
  },
  {
   "cell_type": "code",
   "execution_count": 13,
   "metadata": {},
   "outputs": [],
   "source": [
    "ins = insert(orders).values(user_id=1,order_id=1)\n",
    "result=connection.execute(ins)\n",
    "ins=insert(line_items)\n",
    "order_items=[\n",
    "    {\n",
    "        'order_id':1,\n",
    "        'cookie_id':1,\n",
    "        'quantity':9,\n",
    "        'extended_cost':4.50\n",
    "    }\n",
    "]\n",
    "result=connection.execute(ins,order_items)"
   ]
  },
  {
   "cell_type": "code",
   "execution_count": 14,
   "metadata": {},
   "outputs": [],
   "source": [
    "ins=insert(orders).values(user_id=1,order_id=2)\n",
    "result=connection.execute(ins)\n",
    "ins=insert(line_items)\n",
    "order_items=[\n",
    "    \n",
    "         {\n",
    "        'order_id':2,\n",
    "        'cookie_id':2,\n",
    "        'quantity':1,\n",
    "        'extended_cost':1.50\n",
    "    },\n",
    "     {\n",
    "        'order_id':2,\n",
    "        'cookie_id':1,\n",
    "        'quantity':4,\n",
    "        'extended_cost':4.50\n",
    "    }\n",
    "    \n",
    "]\n",
    "result=connection.execute(ins,order_items)"
   ]
  },
  {
   "cell_type": "code",
   "execution_count": 18,
   "metadata": {},
   "outputs": [],
   "source": [
    "from sqlalchemy.exc import IntegrityError\n",
    "def ship_it(order_id):\n",
    "    s=select([line_items.c.cookie_id,line_items.c.quantity])\n",
    "    s=s.where(line_items.c.order_id==order_id)\n",
    "    transaction=connection.begin()\n",
    "    cookies_to_ship=connection.execute(s).fetchall()\n",
    "    try:\n",
    "        for cookie in cookies_to_ship:\n",
    "            u=update(cookies).where(cookies.c.cookie_id==cookie.cookie_id)\n",
    "            u=u.values(quantity=cookies.c.quantity-cookie.quantity)\n",
    "            result=connection.execute(u)\n",
    "        u=update(orders).where(orders.c.order_id==order_id)\n",
    "        u=u.values(shipped=True)\n",
    "        result=connection.execute(u)\n",
    "        print(\"Shipped order ID: {}\".format(order_id))\n",
    "        transaction.commit()\n",
    "    except IntegrityError as error:\n",
    "        transaction.rollback()\n",
    "        print(error)    "
   ]
  },
  {
   "cell_type": "code",
   "execution_count": 23,
   "metadata": {},
   "outputs": [
    {
     "name": "stdout",
     "output_type": "stream",
     "text": [
      "(sqlite3.IntegrityError) CHECK constraint failed: quantity_positive [SQL: 'UPDATE cookies SET quantity=(cookies.quantity - ?) WHERE cookies.cookie_id = ?'] [parameters: (9, 1)] (Background on this error at: http://sqlalche.me/e/gkpj)\n"
     ]
    }
   ],
   "source": [
    "ship_it(1)"
   ]
  },
  {
   "cell_type": "code",
   "execution_count": 24,
   "metadata": {},
   "outputs": [
    {
     "data": {
      "text/plain": [
       "[('chocolate chip', 3), ('dark chocolate chip', 1)]"
      ]
     },
     "execution_count": 24,
     "metadata": {},
     "output_type": "execute_result"
    }
   ],
   "source": [
    "s=select([cookies.c.cookie_name,cookies.c.quantity])\n",
    "connection.execute(s).fetchall()"
   ]
  },
  {
   "cell_type": "code",
   "execution_count": 25,
   "metadata": {},
   "outputs": [
    {
     "name": "stdout",
     "output_type": "stream",
     "text": [
      "(sqlite3.IntegrityError) CHECK constraint failed: quantity_positive [SQL: 'UPDATE cookies SET quantity=(cookies.quantity - ?) WHERE cookies.cookie_id = ?'] [parameters: (4, 1)] (Background on this error at: http://sqlalche.me/e/gkpj)\n"
     ]
    }
   ],
   "source": [
    "ship_it(2)"
   ]
  },
  {
   "cell_type": "code",
   "execution_count": 26,
   "metadata": {},
   "outputs": [],
   "source": [
    "# Probably try and create my own keyed file system.\n",
    "# Write some programs to write data out to files in a specific format\n",
    "# Make a dictionary to keep track of multiple keys on each file\n",
    "# Would that be considered a database? Yeah probably.\n",
    "# You could run a handful of python servers in different places that share the data\n",
    "# And just make sure you keep them on. Store it all in memory, unless they all go down at the same time, it's up"
   ]
  },
  {
   "cell_type": "code",
   "execution_count": null,
   "metadata": {},
   "outputs": [],
   "source": [
    "#Christopher Brown - SQL EX5 - "
   ]
  }
 ],
 "metadata": {
  "kernelspec": {
   "display_name": "Python 3",
   "language": "python",
   "name": "python3"
  },
  "language_info": {
   "codemirror_mode": {
    "name": "ipython",
    "version": 3
   },
   "file_extension": ".py",
   "mimetype": "text/x-python",
   "name": "python",
   "nbconvert_exporter": "python",
   "pygments_lexer": "ipython3",
   "version": "3.6.5"
  }
 },
 "nbformat": 4,
 "nbformat_minor": 2
}
