{
 "cells": [
  {
   "cell_type": "code",
   "execution_count": 4,
   "metadata": {},
   "outputs": [
    {
     "name": "stdout",
     "output_type": "stream",
     "text": [
      "a\n",
      "a a\n",
      "b\n"
     ]
    }
   ],
   "source": [
    "a=1\n",
    "b=2\n",
    "if a<b:\n",
    "    print(\"a < b \")\n",
    "    print(\"a < b\")\n",
    "print(\"a ?< b\")"
   ]
  },
  {
   "cell_type": "code",
   "execution_count": 6,
   "metadata": {},
   "outputs": [
    {
     "name": "stdout",
     "output_type": "stream",
     "text": [
      "c is bigger\n",
      "c is bigger more\n",
      "somewhere else\n"
     ]
    }
   ],
   "source": [
    "c=5\n",
    "d=4\n",
    "if c < d:\n",
    "    print(\"c < d\")\n",
    "else:\n",
    "    print(\"c > d\")\n",
    "    print(\"c > d\")\n",
    "print(\"somewhere else\")"
   ]
  },
  {
   "cell_type": "code",
   "execution_count": 7,
   "metadata": {},
   "outputs": [
    {
     "name": "stdout",
     "output_type": "stream",
     "text": [
      "e = f\n"
     ]
    }
   ],
   "source": [
    "e=4\n",
    "f=4\n",
    "if e<f:\n",
    "    print(\"e < f\")\n",
    "elif e==f:\n",
    "    print(\"e = f\")\n",
    "else:\n",
    "    print(\"e > f\")"
   ]
  },
  {
   "cell_type": "code",
   "execution_count": 10,
   "metadata": {},
   "outputs": [
    {
     "name": "stdout",
     "output_type": "stream",
     "text": [
      "g > h\n"
     ]
    }
   ],
   "source": [
    "g=9\n",
    "h=8\n",
    "if g < h:\n",
    "    print (\"g < h\")\n",
    "else: \n",
    "    if g == h:\n",
    "        print(\"g == h\")\n",
    "    else:\n",
    "        print(\"g > h\")"
   ]
  },
  {
   "cell_type": "code",
   "execution_count": 11,
   "metadata": {},
   "outputs": [
    {
     "name": "stdout",
     "output_type": "stream",
     "text": [
      "bmi: \n",
      "27.5\n",
      "Bubby\n",
      "is a big ol tubster\n"
     ]
    }
   ],
   "source": [
    "name = \"Bubby\"\n",
    "hgt_m=2\n",
    "wgt_kg=110\n",
    "\n",
    "bmi=wgt_kg/(hgt_m**2)\n",
    "print(\"bmi: \")\n",
    "print(bmi)\n",
    "if bmi<25:\n",
    "    print(name)\n",
    "    print(\"isn't tubby\")\n",
    "else:\n",
    "    print(name)\n",
    "    print(\"is a big ol tubster\")\n"
   ]
  },
  {
   "cell_type": "code",
   "execution_count": null,
   "metadata": {},
   "outputs": [],
   "source": []
  }
 ],
 "metadata": {
  "kernelspec": {
   "display_name": "Python 3",
   "language": "python",
   "name": "python3"
  },
  "language_info": {
   "codemirror_mode": {
    "name": "ipython",
    "version": 3
   },
   "file_extension": ".py",
   "mimetype": "text/x-python",
   "name": "python",
   "nbconvert_exporter": "python",
   "pygments_lexer": "ipython3",
   "version": "3.6.5"
  }
 },
 "nbformat": 4,
 "nbformat_minor": 2
}
